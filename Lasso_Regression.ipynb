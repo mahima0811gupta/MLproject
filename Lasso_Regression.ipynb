{
  "nbformat": 4,
  "nbformat_minor": 0,
  "metadata": {
    "colab": {
      "provenance": [],
      "authorship_tag": "ABX9TyOxNNphyINy22cIoHLS+oCZ",
      "include_colab_link": true
    },
    "kernelspec": {
      "name": "python3",
      "display_name": "Python 3"
    },
    "language_info": {
      "name": "python"
    }
  },
  "cells": [
    {
      "cell_type": "markdown",
      "metadata": {
        "id": "view-in-github",
        "colab_type": "text"
      },
      "source": [
        "<a href=\"https://colab.research.google.com/github/mahima0811gupta/MLproject/blob/main/Lasso_Regression.ipynb\" target=\"_parent\"><img src=\"https://colab.research.google.com/assets/colab-badge.svg\" alt=\"Open In Colab\"/></a>"
      ]
    },
    {
      "cell_type": "code",
      "execution_count": null,
      "metadata": {
        "id": "sBWoOFYWjNdd"
      },
      "outputs": [],
      "source": [
        "import numpy as np"
      ]
    },
    {
      "cell_type": "markdown",
      "source": [
        "Lasso Regression\n"
      ],
      "metadata": {
        "id": "2nLKql1JjWSw"
      }
    },
    {
      "cell_type": "code",
      "source": [
        "\n",
        "\n",
        "\n",
        "class Lasso_Regression():\n",
        "\n",
        "\n",
        "  def __init__(self, learning_rate, no_of_iterations, lambda_parameter):\n",
        "\n",
        "    self.learning_rate = learning_rate\n",
        "    self.no_of_iterations = no_of_iterations\n",
        "    self.lambda_parameter = lambda_parameter\n",
        "\n",
        "\n",
        "\n",
        "  def fit(self, X, Y):\n",
        "\n",
        "\n",
        "    self.m, self.n = X.shape\n",
        "\n",
        "    self.w = np.zeros(self.n)\n",
        "\n",
        "    self.b = 0\n",
        "\n",
        "    self.X = X\n",
        "\n",
        "    self.Y = Y\n",
        "\n",
        "\n",
        "    for i in range(no_of_iterations):\n",
        "      self.upadte_weights()\n",
        "\n",
        "\n",
        "\n",
        "\n",
        "\n",
        "    Y_prediction = self.predict(self.X)\n",
        "\n",
        "\n",
        "    dw = np.zeros(self.n)\n",
        "\n",
        "    for i in range(self.n):\n",
        "\n",
        "      if self.w[i]>0:\n",
        "\n",
        "        dw[i] = (-(2*(self.X[:,i]).dot(self.Y - Y_prediction)) + self.lambda_parameter) / self.m\n",
        "\n",
        "      else :\n",
        "\n",
        "        dw[i] = (-(2*(self.X[:,i]).dot(self.Y - Y_prediction)) - self.lambda_parameter) / self.m\n",
        "\n",
        "\n",
        "\n",
        "    db = - 2 * np.sum(self.Y - Y_prediction) / self.m\n",
        "\n",
        "\n",
        "\n",
        "    self.w = self.w - self.learning_rate*dw\n",
        "    self.b = self.b - self.learning_rate*db\n",
        "\n",
        "\n",
        "\n",
        "  def predict(self,X):\n",
        "\n",
        "    return X.dot(self.w) + self.b\n"
      ],
      "metadata": {
        "id": "LGuHzbfNjdtC"
      },
      "execution_count": 1,
      "outputs": []
    },
    {
      "cell_type": "code",
      "source": [],
      "metadata": {
        "id": "tnXJokG6jwe9"
      },
      "execution_count": null,
      "outputs": []
    }
  ]
}