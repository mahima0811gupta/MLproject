{
  "nbformat": 4,
  "nbformat_minor": 0,
  "metadata": {
    "colab": {
      "provenance": [],
      "authorship_tag": "ABX9TyNw+bDZEYZukmUGrIBCjY4X",
      "include_colab_link": true
    },
    "kernelspec": {
      "name": "python3",
      "display_name": "Python 3"
    },
    "language_info": {
      "name": "python"
    }
  },
  "cells": [
    {
      "cell_type": "markdown",
      "metadata": {
        "id": "view-in-github",
        "colab_type": "text"
      },
      "source": [
        "<a href=\"https://colab.research.google.com/github/mahima0811gupta/MLproject/blob/main/logistic_Regression.ipynb\" target=\"_parent\"><img src=\"https://colab.research.google.com/assets/colab-badge.svg\" alt=\"Open In Colab\"/></a>"
      ]
    },
    {
      "cell_type": "code",
      "execution_count": 1,
      "metadata": {
        "id": "O1BFd8pifbY9"
      },
      "outputs": [],
      "source": [
        "import numpy as np"
      ]
    },
    {
      "cell_type": "markdown",
      "source": [
        "Logistic Regression\n"
      ],
      "metadata": {
        "id": "PvRE54oKfwpS"
      }
    },
    {
      "cell_type": "code",
      "source": [
        "class Logistic_Regression():\n",
        "\n",
        "  def __init__(self, learning_rate, no_of_iterations):\n",
        "\n",
        "    self.learning_rate = learning_rate\n",
        "    self.no_of_iterations = no_of_iterations\n",
        "\n",
        "  def fit(self, X, Y):\n",
        "    self.m, self.n = X.shape\n",
        "\n",
        "\n",
        "    #initiating weight & bias value\n",
        "\n",
        "    self.w = np.zeros(self.n)\n",
        "\n",
        "    self.b = 0\n",
        "\n",
        "    self.X = X\n",
        "\n",
        "    self.Y = Y\n",
        "\n",
        "\n",
        "    # implementing Gradient Descent for Optimization\n",
        "\n",
        "    for i in range(self.no_of_iterations):\n",
        "      self.update_weights()\n",
        "\n",
        "\n",
        "\n",
        "  def update_weights(self):\n",
        "\n",
        "\n",
        "    Y_hat = 1 / (1 + np.exp( - (self.X.dot(self.w) + self.b ) ))\n",
        "\n",
        "    dw = (1/self.m)*np.dot(self.X.T, (Y_hat - self.Y))\n",
        "\n",
        "    db = (1/self.m)*np.sum(Y_hat - self.Y)\n",
        "\n",
        "    self.w = self.w - self.learning_rate * dw\n",
        "\n",
        "    self.b = self.b - self.learning_rate * db\n",
        "\n",
        "\n",
        "\n",
        "  def predict(self, X):\n",
        "\n",
        "    Y_pred = 1 / (1 + np.exp( - (X.dot(self.w) + self.b ) ))\n",
        "    Y_pred = np.where( Y_pred > 0.5, 1, 0)\n",
        "    return Y_pred\n",
        "\n"
      ],
      "metadata": {
        "id": "Ud0bZUUnfuCx"
      },
      "execution_count": 2,
      "outputs": []
    },
    {
      "cell_type": "code",
      "source": [],
      "metadata": {
        "id": "G2u19nr7fvWn"
      },
      "execution_count": null,
      "outputs": []
    }
  ]
}